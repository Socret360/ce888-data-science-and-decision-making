{
 "cells": [
  {
   "cell_type": "code",
   "execution_count": 1,
   "id": "394b25a6",
   "metadata": {},
   "outputs": [
    {
     "name": "stdout",
     "output_type": "stream",
     "text": [
      "Collecting pandas==1.2.3\n",
      "  Downloading pandas-1.2.3-cp38-cp38-win_amd64.whl (9.3 MB)\n",
      "     ---------------------------------------- 9.3/9.3 MB 23.8 MB/s eta 0:00:00\n",
      "Requirement already satisfied: seaborn in c:\\python3\\lib\\site-packages (0.12.0)\n",
      "Collecting imbalanced_learn\n",
      "  Downloading imbalanced_learn-0.10.1-py3-none-any.whl (226 kB)\n",
      "     ---------------------------------------- 226.0/226.0 kB ? eta 0:00:00\n",
      "Requirement already satisfied: numpy>=1.16.5 in c:\\python3\\lib\\site-packages (from pandas==1.2.3) (1.23.3)\n",
      "Requirement already satisfied: pytz>=2017.3 in c:\\python3\\lib\\site-packages (from pandas==1.2.3) (2022.2.1)\n",
      "Requirement already satisfied: python-dateutil>=2.7.3 in c:\\python3\\lib\\site-packages (from pandas==1.2.3) (2.8.2)\n",
      "Requirement already satisfied: matplotlib>=3.1 in c:\\python3\\lib\\site-packages (from seaborn) (3.6.0)\n",
      "Requirement already satisfied: scikit-learn>=1.0.2 in c:\\python3\\lib\\site-packages (from imbalanced_learn) (1.1.2)\n",
      "Requirement already satisfied: threadpoolctl>=2.0.0 in c:\\python3\\lib\\site-packages (from imbalanced_learn) (3.1.0)\n",
      "Requirement already satisfied: joblib>=1.1.1 in c:\\python3\\lib\\site-packages (from imbalanced_learn) (1.2.0)\n",
      "Requirement already satisfied: scipy>=1.3.2 in c:\\python3\\lib\\site-packages (from imbalanced_learn) (1.9.1)\n",
      "Requirement already satisfied: pyparsing>=2.2.1 in c:\\python3\\lib\\site-packages (from matplotlib>=3.1->seaborn) (3.0.9)\n",
      "Requirement already satisfied: fonttools>=4.22.0 in c:\\python3\\lib\\site-packages (from matplotlib>=3.1->seaborn) (4.37.3)\n",
      "Requirement already satisfied: cycler>=0.10 in c:\\python3\\lib\\site-packages (from matplotlib>=3.1->seaborn) (0.11.0)\n",
      "Requirement already satisfied: packaging>=20.0 in c:\\python3\\lib\\site-packages (from matplotlib>=3.1->seaborn) (21.3)\n",
      "Requirement already satisfied: pillow>=6.2.0 in c:\\python3\\lib\\site-packages (from matplotlib>=3.1->seaborn) (9.2.0)\n",
      "Requirement already satisfied: contourpy>=1.0.1 in c:\\python3\\lib\\site-packages (from matplotlib>=3.1->seaborn) (1.0.5)\n",
      "Requirement already satisfied: kiwisolver>=1.0.1 in c:\\python3\\lib\\site-packages (from matplotlib>=3.1->seaborn) (1.4.4)\n",
      "Requirement already satisfied: six>=1.5 in c:\\python3\\lib\\site-packages (from python-dateutil>=2.7.3->pandas==1.2.3) (1.16.0)\n",
      "Installing collected packages: pandas, imbalanced_learn\n",
      "  Attempting uninstall: pandas\n",
      "    Found existing installation: pandas 1.5.0\n",
      "    Uninstalling pandas-1.5.0:\n",
      "      Successfully uninstalled pandas-1.5.0\n",
      "Successfully installed imbalanced_learn-0.10.1 pandas-1.2.3\n"
     ]
    },
    {
     "name": "stderr",
     "output_type": "stream",
     "text": [
      "\n",
      "[notice] A new release of pip available: 22.2.2 -> 23.0\n",
      "[notice] To update, run: python.exe -m pip install --upgrade pip\n"
     ]
    }
   ],
   "source": [
    "!pip install pandas==1.2.3 seaborn imbalanced_learn"
   ]
  },
  {
   "cell_type": "code",
   "execution_count": 58,
   "id": "6a043da8",
   "metadata": {},
   "outputs": [],
   "source": [
    "import os\n",
    "import pandas as pd\n",
    "import seaborn as sns\n",
    "import matplotlib.pyplot as plt\n",
    "from sklearn.neighbors import KNeighborsClassifier\n",
    "from sklearn.metrics import f1_score\n",
    "from imblearn.pipeline import Pipeline\n",
    "from imblearn.over_sampling import SMOTE\n",
    "from sklearn.dummy import DummyClassifier\n",
    "from sklearn.preprocessing import LabelEncoder\n",
    "from sklearn.tree import DecisionTreeClassifier\n",
    "from sklearn.ensemble import RandomForestClassifier, GradientBoostingClassifier\n",
    "from sklearn.base import BaseEstimator, TransformerMixin\n",
    "from sklearn.model_selection import train_test_split, cross_val_score, GridSearchCV\n",
    "\n",
    "DATASET_PATH = \"../../../CE888-2023/lab3-modelling/bank-additional-full.csv\""
   ]
  },
  {
   "cell_type": "markdown",
   "id": "125c9892",
   "metadata": {},
   "source": [
    "# Tidy Data"
   ]
  },
  {
   "cell_type": "code",
   "execution_count": 3,
   "id": "5579adbf",
   "metadata": {},
   "outputs": [],
   "source": [
    "dataset = pd.read_csv(DATASET_PATH, sep=\";\")"
   ]
  },
  {
   "cell_type": "code",
   "execution_count": 4,
   "id": "6559c502",
   "metadata": {},
   "outputs": [
    {
     "name": "stdout",
     "output_type": "stream",
     "text": [
      "<class 'pandas.core.frame.DataFrame'>\n",
      "RangeIndex: 41188 entries, 0 to 41187\n",
      "Data columns (total 21 columns):\n",
      " #   Column          Non-Null Count  Dtype  \n",
      "---  ------          --------------  -----  \n",
      " 0   age             41188 non-null  int64  \n",
      " 1   job             41188 non-null  object \n",
      " 2   marital         41188 non-null  object \n",
      " 3   education       41188 non-null  object \n",
      " 4   default         41188 non-null  object \n",
      " 5   housing         41188 non-null  object \n",
      " 6   loan            41188 non-null  object \n",
      " 7   contact         41188 non-null  object \n",
      " 8   month           41188 non-null  object \n",
      " 9   day_of_week     41188 non-null  object \n",
      " 10  duration        41188 non-null  int64  \n",
      " 11  campaign        41188 non-null  int64  \n",
      " 12  pdays           41188 non-null  int64  \n",
      " 13  previous        41188 non-null  int64  \n",
      " 14  poutcome        41188 non-null  object \n",
      " 15  emp.var.rate    41188 non-null  float64\n",
      " 16  cons.price.idx  41188 non-null  float64\n",
      " 17  cons.conf.idx   41188 non-null  float64\n",
      " 18  euribor3m       41188 non-null  float64\n",
      " 19  nr.employed     41188 non-null  float64\n",
      " 20  y               41188 non-null  object \n",
      "dtypes: float64(5), int64(5), object(11)\n",
      "memory usage: 6.6+ MB\n"
     ]
    }
   ],
   "source": [
    "dataset.info()"
   ]
  },
  {
   "cell_type": "markdown",
   "id": "ba66a7e0",
   "metadata": {},
   "source": [
    "The output above shows that the dataset have `21` features (`11 categorical`,`10 numerical`)."
   ]
  },
  {
   "cell_type": "markdown",
   "id": "10aa6260",
   "metadata": {},
   "source": [
    "It also shows that there is `no null values`."
   ]
  },
  {
   "cell_type": "markdown",
   "id": "a7fb71d0",
   "metadata": {},
   "source": [
    "# Exploratory Analysis"
   ]
  },
  {
   "cell_type": "markdown",
   "id": "b3ddbb1d",
   "metadata": {},
   "source": [
    "First let's check the distribution of the target `y`."
   ]
  },
  {
   "cell_type": "code",
   "execution_count": 52,
   "id": "000bf47a",
   "metadata": {
    "scrolled": false
   },
   "outputs": [
    {
     "data": {
      "image/png": "[encoded data removed]",
      "text/plain": [
       "<Figure size 300x300 with 1 Axes>"
      ]
     },
     "metadata": {},
     "output_type": "display_data"
    }
   ],
   "source": [
    "fig = plt.figure(figsize=(3, 3))\n",
    "sns.countplot(dataset, x='y');\n",
    "plt.xticks(rotation=45)\n",
    "plt.show()"
   ]
  },
  {
   "cell_type": "markdown",
   "id": "0c5ace70",
   "metadata": {},
   "source": [
    "There is a huge class imbalance between the class `no` and the class `yes`."
   ]
  },
  {
   "cell_type": "code",
   "execution_count": 193,
   "id": "b4fb95a4",
   "metadata": {
    "scrolled": true
   },
   "outputs": [
    {
     "name": "stdout",
     "output_type": "stream",
     "text": [
      "<class 'pandas.core.frame.DataFrame'>\n",
      "RangeIndex: 41188 entries, 0 to 41187\n",
      "Data columns (total 50 columns):\n",
      " #   Column                         Non-Null Count  Dtype  \n",
      "---  ------                         --------------  -----  \n",
      " 0   y                              41188 non-null  int32  \n",
      " 1   age                            41188 non-null  int64  \n",
      " 2   month                          41188 non-null  int64  \n",
      " 3   day_of_week                    41188 non-null  int64  \n",
      " 4   campaign                       41188 non-null  int64  \n",
      " 5   pdays                          41188 non-null  int64  \n",
      " 6   previous                       41188 non-null  int64  \n",
      " 7   emp.var.rate                   41188 non-null  float64\n",
      " 8   cons.price.idx                 41188 non-null  float64\n",
      " 9   cons.conf.idx                  41188 non-null  float64\n",
      " 10  euribor3m                      41188 non-null  float64\n",
      " 11  nr.employed                    41188 non-null  float64\n",
      " 12  job_admin.                     41188 non-null  uint8  \n",
      " 13  job_blue-collar                41188 non-null  uint8  \n",
      " 14  job_entrepreneur               41188 non-null  uint8  \n",
      " 15  job_housemaid                  41188 non-null  uint8  \n",
      " 16  job_management                 41188 non-null  uint8  \n",
      " 17  job_retired                    41188 non-null  uint8  \n",
      " 18  job_self-employed              41188 non-null  uint8  \n",
      " 19  job_services                   41188 non-null  uint8  \n",
      " 20  job_student                    41188 non-null  uint8  \n",
      " 21  job_technician                 41188 non-null  uint8  \n",
      " 22  job_unemployed                 41188 non-null  uint8  \n",
      " 23  job_unknown                    41188 non-null  uint8  \n",
      " 24  marital_divorced               41188 non-null  uint8  \n",
      " 25  marital_married                41188 non-null  uint8  \n",
      " 26  marital_single                 41188 non-null  uint8  \n",
      " 27  marital_unknown                41188 non-null  uint8  \n",
      " 28  education_basic.4y             41188 non-null  uint8  \n",
      " 29  education_basic.6y             41188 non-null  uint8  \n",
      " 30  education_basic.9y             41188 non-null  uint8  \n",
      " 31  education_high.school          41188 non-null  uint8  \n",
      " 32  education_illiterate           41188 non-null  uint8  \n",
      " 33  education_professional.course  41188 non-null  uint8  \n",
      " 34  education_university.degree    41188 non-null  uint8  \n",
      " 35  education_unknown              41188 non-null  uint8  \n",
      " 36  default_no                     41188 non-null  uint8  \n",
      " 37  default_unknown                41188 non-null  uint8  \n",
      " 38  default_yes                    41188 non-null  uint8  \n",
      " 39  housing_no                     41188 non-null  uint8  \n",
      " 40  housing_unknown                41188 non-null  uint8  \n",
      " 41  housing_yes                    41188 non-null  uint8  \n",
      " 42  loan_no                        41188 non-null  uint8  \n",
      " 43  loan_unknown                   41188 non-null  uint8  \n",
      " 44  loan_yes                       41188 non-null  uint8  \n",
      " 45  contact_cellular               41188 non-null  uint8  \n",
      " 46  contact_telephone              41188 non-null  uint8  \n",
      " 47  poutcome_failure               41188 non-null  uint8  \n",
      " 48  poutcome_nonexistent           41188 non-null  uint8  \n",
      " 49  poutcome_success               41188 non-null  uint8  \n",
      "dtypes: float64(5), int32(1), int64(6), uint8(38)\n",
      "memory usage: 5.1 MB\n"
     ]
    }
   ],
   "source": [
    "proc_df = dataset.copy() # to ensure that we the original dataset is not affected.\n",
    "\n",
    "# one hot the categorical features\n",
    "proc_df = pd.get_dummies(\n",
    "    proc_df,\n",
    "    columns=['job', 'marital', 'education', 'default', 'housing', 'loan', 'contact', 'poutcome']\n",
    ")\n",
    "\n",
    "# month and day of week has order, therefore we perform ordinal encoding\n",
    "proc_df['month'] = proc_df['month'].map({\n",
    "    'mar': 0,\n",
    "    'apr': 1,\n",
    "    'may': 2,\n",
    "    'jun': 3,\n",
    "    'jul': 4,\n",
    "    'aug': 5,\n",
    "    'sep': 6,\n",
    "    'oct': 7,\n",
    "    'nov': 8,\n",
    "    'dec': 9\n",
    "})\n",
    "\n",
    "proc_df['day_of_week'] = proc_df['day_of_week'].map({\n",
    "    'mon': 0,\n",
    "    'tue': 1,\n",
    "    'wed': 2,\n",
    "    'thu': 3,\n",
    "    'fri': 4\n",
    "})\n",
    "\n",
    "# remove the duration column\n",
    "proc_df = proc_df.drop('duration', axis=1)\n",
    "\n",
    "# label encode the target\n",
    "proc_df['y'] = LabelEncoder().fit_transform(proc_df['y'])\n",
    "\n",
    "columns = ['y'] + [col for col in proc_df.columns.tolist() if col != 'y']\n",
    "proc_df = proc_df[columns]\n",
    "\n",
    "proc_df.info()"
   ]
  },
  {
   "cell_type": "markdown",
   "id": "72edb572",
   "metadata": {},
   "source": [
    "# Modelling"
   ]
  },
  {
   "cell_type": "code",
   "execution_count": 194,
   "id": "ecabf3e9",
   "metadata": {},
   "outputs": [],
   "source": [
    "X, y = SMOTE().fit_resample(proc_df.drop('y', axis=1), proc_df['y'])"
   ]
  },
  {
   "cell_type": "code",
   "execution_count": 195,
   "id": "ff25c113",
   "metadata": {},
   "outputs": [],
   "source": [
    "X_train, X_test, y_train, y_test = train_test_split(X, y, test_size=0.2, stratify=y, random_state=60)"
   ]
  },
  {
   "cell_type": "code",
   "execution_count": 196,
   "id": "a44a0792",
   "metadata": {},
   "outputs": [
    {
     "data": {
      "text/plain": [
       "0.9099789702191168"
      ]
     },
     "execution_count": 196,
     "metadata": {},
     "output_type": "execute_result"
    }
   ],
   "source": [
    "clf = DecisionTreeClassifier()\n",
    "clf.fit(X_train, y_train)\n",
    "\n",
    "f1_score(clf.predict(X_test), y_test)"
   ]
  },
  {
   "cell_type": "code",
   "execution_count": 197,
   "id": "c79702e7",
   "metadata": {},
   "outputs": [],
   "source": [
    "import pickle as pkl\n",
    "\n",
    "outp = open('model.pkl', 'wb')\n",
    "pkl.dump(clf, outp, -1)  # where clf is your classifier\n",
    "outp.close()"
   ]
  },
  {
   "cell_type": "code",
   "execution_count": 199,
   "id": "97c15e4b",
   "metadata": {},
   "outputs": [],
   "source": [
    "pd.concat([X_test, y_test], axis=1).to_csv(\"testset.csv\", index=False)"
   ]
  }
 ],
 "metadata": {
  "kernelspec": {
   "display_name": "Python 3 (ipykernel)",
   "language": "python",
   "name": "python3"
  },
  "language_info": {
   "codemirror_mode": {
    "name": "ipython",
    "version": 3
   },
   "file_extension": ".py",
   "mimetype": "text/x-python",
   "name": "python",
   "nbconvert_exporter": "python",
   "pygments_lexer": "ipython3",
   "version": "3.8.13"
  }
 },
 "nbformat": 4,
 "nbformat_minor": 5
}
